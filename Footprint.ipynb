{
 "cells": [
  {
   "cell_type": "code",
   "execution_count": 11,
   "metadata": {},
   "outputs": [],
   "source": [
    "import pandas as pd\n",
    "import numpy as np\n",
    "#from tqdm import tnrange, tqdm_notebook\n",
    "#from time import sleep\n",
    "import csv\n",
    "import sys\n"
   ]
  },
  {
   "cell_type": "code",
   "execution_count": 12,
   "metadata": {},
   "outputs": [],
   "source": [
    "modelo = pd.read_csv('Sim01.txt', sep ='\\s+', header = 0) #se debe ingresar el nombre del modelo."
   ]
  },
  {
   "cell_type": "code",
   "execution_count": 13,
   "metadata": {},
   "outputs": [
    {
     "name": "stdout",
     "output_type": "stream",
     "text": [
      "             XC      YC      ZC    FE  RT   DEN TON\n",
      "0        8005.0  1555.0   765.0  -1.0  -1  -1.0  -1\n",
      "1        8015.0  1555.0   765.0  -1.0  -1  -1.0  -1\n",
      "2        8025.0  1555.0   765.0  -1.0  -1  -1.0  -1\n",
      "3        8035.0  1555.0   765.0  -1.0  -1  -1.0  -1\n",
      "4        8045.0  1555.0   765.0  -1.0  -1  -1.0  -1\n",
      "5        8055.0  1555.0   765.0  -1.0  -1  -1.0  -1\n",
      "6        8065.0  1555.0   765.0  -1.0  -1  -1.0  -1\n",
      "7        8075.0  1555.0   765.0  -1.0  -1  -1.0  -1\n",
      "8        8085.0  1555.0   765.0  -1.0  -1  -1.0  -1\n",
      "9        8095.0  1555.0   765.0  -1.0  -1  -1.0  -1\n",
      "10       8105.0  1555.0   765.0  -1.0  -1  -1.0  -1\n",
      "11       8115.0  1555.0   765.0  -1.0  -1  -1.0  -1\n",
      "12       8125.0  1555.0   765.0  -1.0  -1  -1.0  -1\n",
      "13       8135.0  1555.0   765.0  -1.0  -1  -1.0  -1\n",
      "14       8145.0  1555.0   765.0  -1.0  -1  -1.0  -1\n",
      "15       8155.0  1555.0   765.0  -1.0  -1  -1.0  -1\n",
      "16       8165.0  1555.0   765.0  -1.0  -1  -1.0  -1\n",
      "17       8175.0  1555.0   765.0  -1.0  -1  -1.0  -1\n",
      "18       8185.0  1555.0   765.0  -1.0  -1  -1.0  -1\n",
      "19       8195.0  1555.0   765.0  -1.0  -1  -1.0  -1\n",
      "20       8205.0  1555.0   765.0  -1.0  -1  -1.0  -1\n",
      "21       8215.0  1555.0   765.0  -1.0  -1  -1.0  -1\n",
      "22       8225.0  1555.0   765.0  -1.0  -1  -1.0  -1\n",
      "23       8235.0  1555.0   765.0  -1.0  -1  -1.0  -1\n",
      "24       8245.0  1555.0   765.0  -1.0  -1  -1.0  -1\n",
      "25       8255.0  1555.0   765.0  -1.0  -1  -1.0  -1\n",
      "26       8265.0  1555.0   765.0  -1.0  -1  -1.0  -1\n",
      "27       8275.0  1555.0   765.0  -1.0  -1  -1.0  -1\n",
      "28       8285.0  1555.0   765.0  -1.0  -1  -1.0  -1\n",
      "29       8295.0  1555.0   765.0  -1.0  -1  -1.0  -1\n",
      "...         ...     ...     ...   ...  ..   ...  ..\n",
      "2906970  9405.0  3795.0  1515.0 -99.0 -99 -99.0 -99\n",
      "2906971  9415.0  3795.0  1515.0 -99.0 -99 -99.0 -99\n",
      "2906972  9425.0  3795.0  1515.0 -99.0 -99 -99.0 -99\n",
      "2906973  9435.0  3795.0  1515.0 -99.0 -99 -99.0 -99\n",
      "2906974  9445.0  3795.0  1515.0 -99.0 -99 -99.0 -99\n",
      "2906975  9455.0  3795.0  1515.0 -99.0 -99 -99.0 -99\n",
      "2906976  9465.0  3795.0  1515.0 -99.0 -99 -99.0 -99\n",
      "2906977  9475.0  3795.0  1515.0 -99.0 -99 -99.0 -99\n",
      "2906978  9485.0  3795.0  1515.0 -99.0 -99 -99.0 -99\n",
      "2906979  9495.0  3795.0  1515.0 -99.0 -99 -99.0 -99\n",
      "2906980  9505.0  3795.0  1515.0 -99.0 -99 -99.0 -99\n",
      "2906981  9515.0  3795.0  1515.0 -99.0 -99 -99.0 -99\n",
      "2906982  9525.0  3795.0  1515.0 -99.0 -99 -99.0 -99\n",
      "2906983  9535.0  3795.0  1515.0 -99.0 -99 -99.0 -99\n",
      "2906984  9545.0  3795.0  1515.0 -99.0 -99 -99.0 -99\n",
      "2906985  9555.0  3795.0  1515.0 -99.0 -99 -99.0 -99\n",
      "2906986  9565.0  3795.0  1515.0 -99.0 -99 -99.0 -99\n",
      "2906987  9575.0  3795.0  1515.0 -99.0 -99 -99.0 -99\n",
      "2906988  9585.0  3795.0  1515.0 -99.0 -99 -99.0 -99\n",
      "2906989  9595.0  3795.0  1515.0 -99.0 -99 -99.0 -99\n",
      "2906990  9605.0  3795.0  1515.0 -99.0 -99 -99.0 -99\n",
      "2906991  9615.0  3795.0  1515.0 -99.0 -99 -99.0 -99\n",
      "2906992  9625.0  3795.0  1515.0 -99.0 -99 -99.0 -99\n",
      "2906993  9635.0  3795.0  1515.0 -99.0 -99 -99.0 -99\n",
      "2906994  9645.0  3795.0  1515.0 -99.0 -99 -99.0 -99\n",
      "2906995  9655.0  3795.0  1515.0 -99.0 -99 -99.0 -99\n",
      "2906996  9665.0  3795.0  1515.0 -99.0 -99 -99.0 -99\n",
      "2906997  9675.0  3795.0  1515.0 -99.0 -99 -99.0 -99\n",
      "2906998  9685.0  3795.0  1515.0 -99.0 -99 -99.0 -99\n",
      "2906999  9695.0  3795.0  1515.0 -99.0 -99 -99.0 -99\n",
      "\n",
      "[2907000 rows x 7 columns]\n"
     ]
    }
   ],
   "source": [
    "print modelo"
   ]
  },
  {
   "cell_type": "code",
   "execution_count": 6,
   "metadata": {
    "collapsed": true
   },
   "outputs": [],
   "source": [
    "bx=modelo.ix[:,0]\n",
    "by=modelo.ix[:,1]\n",
    "bz=modelo.ix[:,2]\n",
    "ton= modelo.ix[:,5] #indicar columna con valores de tonelaje"
   ]
  },
  {
   "cell_type": "code",
   "execution_count": 7,
   "metadata": {},
   "outputs": [],
   "source": [
    "xmin= min(bx)\n",
    "ymin= min(by)\n",
    "zmin= min(bz)\n",
    "xmax = max(bx)\n",
    "ymax = max(by)\n",
    "zmax =max (bz)\n",
    "sx=10\n",
    "sy=10\n",
    "sz=10"
   ]
  },
  {
   "cell_type": "code",
   "execution_count": 8,
   "metadata": {},
   "outputs": [
    {
     "name": "stdout",
     "output_type": "stream",
     "text": [
      "\t Columnas indentificadas (xy)\n"
     ]
    }
   ],
   "source": [
    "bxy= {}\n",
    "for i in range(len(bx)):\n",
    "    cordx = int(bx.iloc[i])\n",
    "    cordy = int(by.iloc[i])\n",
    "    if (\"(\"+str(cordx)+\",\"+str(cordy)+\")\" in bxy):\n",
    "        bxy[\"(\"+str(cordx)+\",\"+str(cordy)+\")\"].append(i)\n",
    "    else:\n",
    "        bxy[\"(\"+str(cordx)+\",\"+str(cordy)+\")\"]=[i]\n",
    "\n",
    "print \"\\t Columnas indentificadas (xy)\""
   ]
  },
  {
   "cell_type": "code",
   "execution_count": 9,
   "metadata": {},
   "outputs": [],
   "source": [
    "#####Input\n",
    "project_folder = r\"C:\\VULCAN_HOME\\AnacondaProjects\\footprint\\estadisticas_4\"\n",
    "c_mina = 4.1\n",
    "c_planta = 8.1\n",
    "c_venta = 0.3\n",
    "rec = 0.85\n",
    "precio = 2.6\n",
    "r = 0.1\n",
    "dens = 2.6\n",
    "max_height = 300\n",
    "tpd = 200\n",
    "util = 200\n",
    "area = 225\n",
    "dev_cost = 0 #2200\n",
    "f =2204.62\n",
    "sim = 100 #indique cuantas simulaciones contiene el modelo de bloques\n",
    "in_sim=  7 #indique la columna en la cual comienza los atributos de simulaciones en el modelo\n",
    "vmr=(tpd*util)/(dens*area) #este valor equivale a los metros extraidos en un año\n",
    "dblock=sz/vmr           #Corresponde al porcentaje de vida de un bloque en un nivel por año\n",
    "niveles= int((zmax-zmin)/sz)"
   ]
  },
  {
   "cell_type": "code",
   "execution_count": 16,
   "metadata": {},
   "outputs": [
    {
     "name": "stdout",
     "output_type": "stream",
     "text": [
      "\t Tasa de descuento aplicado por bloque, creado\n"
     ]
    }
   ],
   "source": [
    "#Tasa de descuento\n",
    "desc = []\n",
    "dsc = 0\n",
    "aux = 0\n",
    "\n",
    "#Secuencia de bloques\n",
    "for i in range(1, niveles+1):\n",
    "    aux = aux + dblock\n",
    "    if (i*sz >= max_height):\n",
    "        dsc=0\n",
    "    else:\n",
    "        dsc = 1/((1+r)**aux)\n",
    "    desc.append(dsc)\n",
    "    \n",
    "print \"\\t Tasa de descuento aplicado por bloque, creado\""
   ]
  },
  {
   "cell_type": "code",
   "execution_count": 12,
   "metadata": {},
   "outputs": [],
   "source": [
    "#valorizar cada simulacion \n",
    "rows = len(bx)\n",
    "columns = len(range(6, sim+6)) #(range(6,sim+6))\n",
    "m_val = np.empty((rows, 1)) #Columns\n",
    "\n",
    "#for j in tqdm_notebook(range(6,sim+6), desc=\"\\t Value\"): #range(6,sim+6)\n",
    "for i in range(len(bx)):\n",
    "    ley_cu =  modelo.ix[i,3]/100\n",
    "    bton = ton.ix[i]\n",
    "    bval = ((precio-c_venta)*rec*f*bton*ley_cu)-(c_mina+c_planta)*bton\n",
    "    m_val[i][0]= bval  # m_val[i][j-6]\n"
   ]
  },
  {
   "cell_type": "code",
   "execution_count": 20,
   "metadata": {},
   "outputs": [
    {
     "name": "stdout",
     "output_type": "stream",
     "text": [
      "\n"
     ]
    }
   ],
   "source": [
    "#valorizacion acumulada por cada xy\n",
    "m_val_acum = np.zeros((rows, columns))\n",
    "for m in tqdm_notebook(range(sim),desc='sim'): #sim\n",
    "      #### val_acum = 0 \n",
    "    for i in bxy.keys():     #in bxy.keys()\n",
    "        val_acum = 0\n",
    "        for k in range(1, niveles+1):\n",
    "            for l in bxy[i]:\n",
    "                piso=int(abs(bz.ix[l]-zmin)/sz)\n",
    "                if (piso>=k):\n",
    "                    vdesc = m_val[l][m]*desc[piso-k] #...editado..val[l][m] #####verificar esta variable!!!!!!!!!!\n",
    "                    val_acum = val_acum + vdesc  #Los valores que estan sobre el HOD tienen vdesc=0\n",
    "                    m_val_acum[l][m] = val_acum\n",
    "                                    \n",
    "\n",
    "                \n",
    "            \n",
    "                "
   ]
  },
  {
   "cell_type": "code",
   "execution_count": 26,
   "metadata": {},
   "outputs": [
    {
     "name": "stdout",
     "output_type": "stream",
     "text": [
      "\n"
     ]
    }
   ],
   "source": [
    "#guardar informacion footprint\n",
    "m_foot = np.zeros((rows, columns))\n",
    "m_columna = np.zeros((rows, columns))\n",
    "for m in tqdm_notebook(range(sim),desc='sim'):    \n",
    "    #for q in range(1,niveles+1):\n",
    "    #nc = 0\n",
    "    \n",
    "        #ncp = 0\n",
    "    for i in bxy.keys():\n",
    "        #nc = 0\n",
    "        temp_1 = 0\n",
    "        for l in bxy[i]:\n",
    "            if (m_val_acum[l][m]>(dev_cost*area)):  #genero una matriz con los valores acumulados en cada bloque mas la cantidad de bloques de columna\n",
    "                temp_1 = m_val_acum[l][m]-dev_cost*area\n",
    "                m_foot[l][m] = temp_1\n",
    "                "
   ]
  },
  {
   "cell_type": "code",
   "execution_count": 22,
   "metadata": {},
   "outputs": [],
   "source": [
    "m_foot = np.zeros((rows, 1)) #columns\n",
    "m_val_acum = np.zeros((rows, 1))\n",
    "m_columna = np.zeros((rows, 1))\n",
    "#for m in tqdm_notebook(range(sim),desc='sim'): #sim\n",
    "vxy= {}\n",
    "tonxy = {}\n",
    "ton_acum = 0\n",
    "val_acum = 0\n",
    "for i in bxy.keys():     #in bxy.keys()\n",
    "    for k in range(1, niveles+1):\n",
    "        for l in bxy[i]:\n",
    "            piso=int(abs(bz.ix[l]-zmin)/sz) # se suma +1, ya que parte del nivel 1 y no 0 ?????\n",
    "            if (piso>=k):# and (ton.ix[l]>0) and (k<(piso+(max_height/sz)))    #genero un control en el tonelaje acumulado sobre la frontera de HOD.\n",
    "                vdesc = m_val[l][0]*desc[piso-k] #...editado..val[l][m] ...vdesc = m_val[l][m]*desc[piso-k]\n",
    "                val_acum = val_acum + vdesc  #Los valores que estan sobre el HOD tienen vdesc=0\n",
    "                m_val_acum[l][0] = val_acum #m\n",
    "                if (k<(piso+(max_height/sz))):\n",
    "                    ton_acum = ton_acum + ton.ix[l] #se suman solo los bloques que tienen ton.\n",
    "                else:\n",
    "                    ton_acum = 0\n",
    "        if (i in vxy):\n",
    "            vxy[i].append(val_acum)\n",
    "            tonxy[i].append(ton_acum)\n",
    "            val_acum = 0\n",
    "            ton_acum = 0\n",
    "        else:\n",
    "            vxy[i] = [val_acum]\n",
    "            tonxy[i] = [ton_acum]\n",
    "            val_acum = 0\n",
    "            ton_acum = 0\n",
    "\n",
    "                               \n",
    "NCP = {}\n",
    "UCL = {}\n",
    "Area_foot = {}\n",
    "UCLton = {}\n",
    "    \n",
    "    \n",
    "    # \"agregar una columna ff al modelo\"\n",
    "for q in range(1,niveles+1):  #se ve en cada piso los valores positivos y se suman.\n",
    "    suma = 0\n",
    "    suma2 = 0\n",
    "    ncp = 0\n",
    "    area_foot = 0\n",
    "    for i in vxy.keys():\n",
    "        nc = 0\n",
    "        temp_1 = 0\n",
    "        for l in bxy[i]:\n",
    "            if (vxy[i][q-1]>dev_cost*area): # and (ton.ix[l]>0) and (k<(piso+(max_height/sz))) \n",
    "                temp = vxy[i][q-1]-dev_cost*area\n",
    "                temp2 = tonxy[i][q-1]\n",
    "                suma = suma+temp\n",
    "                suma2 = suma2 + temp2\n",
    "                area_foot = area_foot + sx*sy\n",
    "                ncp=ncp+1\n",
    "                if (m_val_acum[l][0]>dev_cost*area): #m #genero una matriz con los valores acumulados en cada bloque mas la cantidad de bloques de columna\n",
    "                    temp_1= m_val_acum[l][0]-dev_cost*area #m\n",
    "                    m_foot[l][0]= temp_1 #m\n",
    "                    \n",
    "                         \n",
    "    if (q in UCL):\n",
    "        UCL[q].apppend(suma)\n",
    "        NCP[q].append(ncp)\n",
    "        UCLton[q].append(suma2)\n",
    "        Area_foot[q]=[area_foot]\n",
    "        \n",
    "    else:\n",
    "        UCL[q]=[suma]\n",
    "        NCP[q]=[ncp]\n",
    "        UCLton[q]= [suma2]\n",
    "        Area_foot[q]=[area_foot]\n",
    "                \n",
    "vpiso=open(project_folder+'\\_Footprint_modelo_sim_costos_kcu'+str(1)+'.xls','w')\n",
    "vpiso.write(\"nivel\"+\"\\tZ\"+\"\\tTons\"+\"\\tValor_acum_col\"+\"\\tArea\")\n",
    "for s in UCL.keys(): # fijarme que esta i no se intercepte con las de arriba\n",
    "    vpiso.write(\"\\n\"+str(s))\n",
    "    vpiso.write(\"\\t\"+str(zmin+(s-1)*sz))\n",
    "    vpiso.write(\"\\t\"+str(UCLton[s][0]))\n",
    "    vpiso.write(\"\\t\"+str(UCL[s][0]))\n",
    "    vpiso.write(\"\\t\"+str(Area_foot[s][0]))\n",
    "vpiso.close()\n",
    "            #print \"\\t Suma acumulada por columna, de la sim\"+str(m)+\" calculada :D\"\n",
    "            \n",
    "      \n",
    "                \n",
    "                    \n",
    "                \n"
   ]
  },
  {
   "cell_type": "code",
   "execution_count": 27,
   "metadata": {},
   "outputs": [],
   "source": [
    "modelo_footprint = pd.DataFrame(m_foot)\n",
    "modelo_columna = pd.DataFrame(m_columna)"
   ]
  },
  {
   "cell_type": "code",
   "execution_count": null,
   "metadata": {
    "collapsed": true
   },
   "outputs": [],
   "source": [
    "m_valorizado = pd.DataFrame(m_val)\n"
   ]
  },
  {
   "cell_type": "code",
   "execution_count": 23,
   "metadata": {
    "collapsed": true
   },
   "outputs": [],
   "source": [
    "m_acum = pd.DataFrame(m_val_acum)"
   ]
  },
  {
   "cell_type": "code",
   "execution_count": 24,
   "metadata": {
    "collapsed": true
   },
   "outputs": [],
   "source": [
    "m_acum.to_csv('modelo_acumulado_f.csv', sep=' ', header=None)"
   ]
  },
  {
   "cell_type": "code",
   "execution_count": 28,
   "metadata": {
    "collapsed": true
   },
   "outputs": [],
   "source": [
    "modelo_footprint.to_csv('modelo_footprint.csv', sep=' ', header=None)\n",
    "modelo_columna.to_csv('modelo_columna.csv', sep = ' ', header = None)"
   ]
  },
  {
   "cell_type": "raw",
   "metadata": {},
   "source": [
    "print m_val_acum"
   ]
  },
  {
   "cell_type": "code",
   "execution_count": 20,
   "metadata": {},
   "outputs": [],
   "source": [
    "m_valorizado.to_csv('modelo_valorizado.csv', sep = ' ', header=None)"
   ]
  },
  {
   "cell_type": "code",
   "execution_count": null,
   "metadata": {
    "collapsed": true
   },
   "outputs": [],
   "source": [
    "\"\"\"\"\n",
    "NCP = {}\n",
    "UCL = {}\n",
    "Area_foot = {}\n",
    "UCLton = {}\n",
    "m_foot = np.zeros((rows, columns))\n",
    "m_columna = np.zeros((rows, columns))\n",
    "# \"agregar una columna ff al modelo\"\n",
    "for q in tqdm_notebook(range(1,niveles+1),desc= \"\\t footprint\"):  #se ve en cada piso los valores positivos y se suman.\n",
    "    suma = 0\n",
    "    suma2 = 0\n",
    "    ncp = 0\n",
    "    area_foot = 0\n",
    "    for i in vxy.keys():\n",
    "        nc = 0\n",
    "        suma_1 = 0\n",
    "        for l in bxy[i]:\n",
    "            if (vxy[i][q-1]>dev_cost*area): # and (ton.ix[l]>0) and (k<(piso+(max_height/sz))) \n",
    "                temp = vxy[i][q-1]-dev_cost*area\n",
    "                temp2 = tonxy[i][q-1]\n",
    "                suma = suma+temp\n",
    "                suma2 = suma2 + temp2\n",
    "                area_foot = area_foot + sx*sy\n",
    "                ncp=ncp+1\n",
    "            if (m_val_acum[l][0]>dev_cost*area):  #genero una matriz con los valores acumulados en cada bloque mas la cantidad de bloques de columna\n",
    "                temp_1= m_val_acum[l][0]-dev_cost*area\n",
    "                suma_1= suma_1+temp_1\n",
    "                m_foot[l][0]= suma_1\n",
    "                nc=nc+1\n",
    "                m_columna[l][0] = nc\n",
    "            elif (m_val_acum[l][0] <= dev_cost*area):\n",
    "                m_foot[l][0] = 0\n",
    "                m_columna[l][0] = 0\n",
    "                \n",
    "                          \n",
    "       \n",
    "    if (q in UCL):\n",
    "        UCL[q].apppend(suma)\n",
    "        NCP[q].append(ncp)\n",
    "        UCLton[q].append(suma2)\n",
    "        Area_foot[q]=[area_foot]\n",
    "        \n",
    "    else:\n",
    "        UCL[q]=[suma]\n",
    "        NCP[q]=[ncp]\n",
    "        UCLton[q]= [suma2]\n",
    "        Area_foot[q]=[area_foot]\n",
    "                \n",
    "vpiso=open(project_folder+'\\_Footprint_modelo_.xls','w')\n",
    "vpiso.write(\"nivel\"+\"\\tZ\"+\"\\tTons\"+\"\\tValor_acum_col\"+\"\\tArea\")\n",
    "for i in UCL.keys(): # fijarme que esta i no se intercepte con las de arriba\n",
    "    vpiso.write(\"\\n\"+str(i))\n",
    "    vpiso.write(\"\\t\"+str(zmin+(i-1)*sz))\n",
    "    vpiso.write(\"\\t\"+str(UCLton[i][0]))\n",
    "    vpiso.write(\"\\t\"+str(UCL[i][0]))\n",
    "    vpiso.write(\"\\t\"+str(Area_foot[i][0]))\n",
    "vpiso.close() \"\"\"\"\"\""
   ]
  },
  {
   "cell_type": "code",
   "execution_count": 21,
   "metadata": {},
   "outputs": [
    {
     "name": "stdout",
     "output_type": "stream",
     "text": [
      "[[-31720.]\n",
      " [-31720.]\n",
      " [-31720.]\n",
      " ..., \n",
      " [     0.]\n",
      " [     0.]\n",
      " [     0.]]\n"
     ]
    }
   ],
   "source": [
    "print m_val"
   ]
  },
  {
   "cell_type": "code",
   "execution_count": 10,
   "metadata": {
    "collapsed": true
   },
   "outputs": [],
   "source": [
    "modelo.to_csv('Simulacion01-sepporcoma.csv', sep=',', header=0, index_col=None)"
   ]
  },
  {
   "cell_type": "code",
   "execution_count": null,
   "metadata": {
    "collapsed": true
   },
   "outputs": [],
   "source": []
  }
 ],
 "metadata": {
  "kernelspec": {
   "display_name": "Python 2",
   "language": "python",
   "name": "python2"
  },
  "language_info": {
   "codemirror_mode": {
    "name": "ipython",
    "version": 2
   },
   "file_extension": ".py",
   "mimetype": "text/x-python",
   "name": "python",
   "nbconvert_exporter": "python",
   "pygments_lexer": "ipython2",
   "version": "2.7.13"
  }
 },
 "nbformat": 4,
 "nbformat_minor": 2
}
